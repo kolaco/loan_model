{
 "cells": [
  {
   "cell_type": "code",
   "execution_count": 1,
   "metadata": {},
   "outputs": [],
   "source": [
    "import pandas as pd\n",
    "import numpy as np\n",
    "import os"
   ]
  },
  {
   "cell_type": "markdown",
   "metadata": {},
   "source": [
    "## 1、数据前处理嗡嗡嗡fsds"
   ]
  },
  {
   "cell_type": "code",
   "execution_count": 5,
   "metadata": {},
   "outputs": [
    {
     "name": "stdout",
     "output_type": "stream",
     "text": [
      "d:\\Python\\Kaggle\\1_贷款违约预测\\2_Model\n",
      "d:\\Python\\Kaggle\\1_贷款违约预测\n"
     ]
    }
   ],
   "source": [
    "FilePath = os.path.abspath('.')\n",
    "SuperPath = os.path.dirname(FilePath)\n",
    "DocPath = os.path.join(SuperPath, '1_Data')\n",
    "print(FilePath)\n",
    "print(SuperPath)"
   ]
  },
  {
   "cell_type": "code",
   "execution_count": 11,
   "metadata": {},
   "outputs": [],
   "source": [
    "test = pd.read_csv(os.path.join(DocPath, 'testA.csv'))\n",
    "train = pd.read_csv(os.path.join(DocPath, 'train.csv'))"
   ]
  },
  {
   "cell_type": "markdown",
   "metadata": {},
   "source": []
  },
  {
   "cell_type": "code",
   "execution_count": 12,
   "metadata": {},
   "outputs": [
    {
     "name": "stdout",
     "output_type": "stream",
     "text": [
      "<class 'pandas.core.frame.DataFrame'>\n",
      "RangeIndex: 200000 entries, 0 to 199999\n",
      "Data columns (total 46 columns):\n",
      " #   Column              Non-Null Count   Dtype  \n",
      "---  ------              --------------   -----  \n",
      " 0   id                  200000 non-null  int64  \n",
      " 1   loanAmnt            200000 non-null  float64\n",
      " 2   term                200000 non-null  int64  \n",
      " 3   interestRate        200000 non-null  float64\n",
      " 4   installment         200000 non-null  float64\n",
      " 5   grade               200000 non-null  object \n",
      " 6   subGrade            200000 non-null  object \n",
      " 7   employmentTitle     200000 non-null  float64\n",
      " 8   employmentLength    188258 non-null  object \n",
      " 9   homeOwnership       200000 non-null  int64  \n",
      " 10  annualIncome        200000 non-null  float64\n",
      " 11  verificationStatus  200000 non-null  int64  \n",
      " 12  issueDate           200000 non-null  object \n",
      " 13  purpose             200000 non-null  int64  \n",
      " 14  postCode            200000 non-null  float64\n",
      " 15  regionCode          200000 non-null  int64  \n",
      " 16  dti                 199939 non-null  float64\n",
      " 17  delinquency_2years  200000 non-null  float64\n",
      " 18  ficoRangeLow        200000 non-null  float64\n",
      " 19  ficoRangeHigh       200000 non-null  float64\n",
      " 20  openAcc             200000 non-null  float64\n",
      " 21  pubRec              200000 non-null  float64\n",
      " 22  pubRecBankruptcies  199884 non-null  float64\n",
      " 23  revolBal            200000 non-null  float64\n",
      " 24  revolUtil           199873 non-null  float64\n",
      " 25  totalAcc            200000 non-null  float64\n",
      " 26  initialListStatus   200000 non-null  int64  \n",
      " 27  applicationType     200000 non-null  int64  \n",
      " 28  earliesCreditLine   200000 non-null  object \n",
      " 29  title               200000 non-null  float64\n",
      " 30  policyCode          200000 non-null  float64\n",
      " 31  n0                  189889 non-null  float64\n",
      " 32  n1                  189889 non-null  float64\n",
      " 33  n2                  189889 non-null  float64\n",
      " 34  n3                  189889 non-null  float64\n",
      " 35  n4                  191606 non-null  float64\n",
      " 36  n5                  189889 non-null  float64\n",
      " 37  n6                  189889 non-null  float64\n",
      " 38  n7                  189889 non-null  float64\n",
      " 39  n8                  189889 non-null  float64\n",
      " 40  n9                  189889 non-null  float64\n",
      " 41  n10                 191606 non-null  float64\n",
      " 42  n11                 182425 non-null  float64\n",
      " 43  n12                 189889 non-null  float64\n",
      " 44  n13                 189889 non-null  float64\n",
      " 45  n14                 189889 non-null  float64\n",
      "dtypes: float64(33), int64(8), object(5)\n",
      "memory usage: 70.2+ MB\n"
     ]
    }
   ],
   "source": [
    "test.info()"
   ]
  },
  {
   "cell_type": "code",
   "execution_count": 13,
   "metadata": {},
   "outputs": [
    {
     "name": "stdout",
     "output_type": "stream",
     "text": [
      "<class 'pandas.core.frame.DataFrame'>\n",
      "RangeIndex: 800000 entries, 0 to 799999\n",
      "Data columns (total 47 columns):\n",
      " #   Column              Non-Null Count   Dtype  \n",
      "---  ------              --------------   -----  \n",
      " 0   id                  800000 non-null  int64  \n",
      " 1   loanAmnt            800000 non-null  float64\n",
      " 2   term                800000 non-null  int64  \n",
      " 3   interestRate        800000 non-null  float64\n",
      " 4   installment         800000 non-null  float64\n",
      " 5   grade               800000 non-null  object \n",
      " 6   subGrade            800000 non-null  object \n",
      " 7   employmentTitle     799999 non-null  float64\n",
      " 8   employmentLength    753201 non-null  object \n",
      " 9   homeOwnership       800000 non-null  int64  \n",
      " 10  annualIncome        800000 non-null  float64\n",
      " 11  verificationStatus  800000 non-null  int64  \n",
      " 12  issueDate           800000 non-null  object \n",
      " 13  isDefault           800000 non-null  int64  \n",
      " 14  purpose             800000 non-null  int64  \n",
      " 15  postCode            799999 non-null  float64\n",
      " 16  regionCode          800000 non-null  int64  \n",
      " 17  dti                 799761 non-null  float64\n",
      " 18  delinquency_2years  800000 non-null  float64\n",
      " 19  ficoRangeLow        800000 non-null  float64\n",
      " 20  ficoRangeHigh       800000 non-null  float64\n",
      " 21  openAcc             800000 non-null  float64\n",
      " 22  pubRec              800000 non-null  float64\n",
      " 23  pubRecBankruptcies  799595 non-null  float64\n",
      " 24  revolBal            800000 non-null  float64\n",
      " 25  revolUtil           799469 non-null  float64\n",
      " 26  totalAcc            800000 non-null  float64\n",
      " 27  initialListStatus   800000 non-null  int64  \n",
      " 28  applicationType     800000 non-null  int64  \n",
      " 29  earliesCreditLine   800000 non-null  object \n",
      " 30  title               799999 non-null  float64\n",
      " 31  policyCode          800000 non-null  float64\n",
      " 32  n0                  759730 non-null  float64\n",
      " 33  n1                  759730 non-null  float64\n",
      " 34  n2                  759730 non-null  float64\n",
      " 35  n3                  759730 non-null  float64\n",
      " 36  n4                  766761 non-null  float64\n",
      " 37  n5                  759730 non-null  float64\n",
      " 38  n6                  759730 non-null  float64\n",
      " 39  n7                  759730 non-null  float64\n",
      " 40  n8                  759729 non-null  float64\n",
      " 41  n9                  759730 non-null  float64\n",
      " 42  n10                 766761 non-null  float64\n",
      " 43  n11                 730248 non-null  float64\n",
      " 44  n12                 759730 non-null  float64\n",
      " 45  n13                 759730 non-null  float64\n",
      " 46  n14                 759730 non-null  float64\n",
      "dtypes: float64(33), int64(9), object(5)\n",
      "memory usage: 286.9+ MB\n"
     ]
    }
   ],
   "source": [
    "train.info()"
   ]
  },
  {
   "cell_type": "code",
   "execution_count": 17,
   "metadata": {},
   "outputs": [],
   "source": [
    "label = train[['id','isDefault']]"
   ]
  },
  {
   "cell_type": "code",
   "execution_count": 33,
   "metadata": {},
   "outputs": [
    {
     "data": {
      "text/plain": [
       "0    640390\n",
       "1    159610\n",
       "Name: isDefault, dtype: int64"
      ]
     },
     "execution_count": 33,
     "metadata": {},
     "output_type": "execute_result"
    }
   ],
   "source": [
    "#查看样本是否平衡\n",
    "label['isDefault'].value_counts()"
   ]
  },
  {
   "cell_type": "code",
   "execution_count": 18,
   "metadata": {},
   "outputs": [],
   "source": [
    "train = train.drop('isDefault', axis=1)"
   ]
  },
  {
   "cell_type": "code",
   "execution_count": 34,
   "metadata": {},
   "outputs": [],
   "source": [
    "df = train.append(test)"
   ]
  },
  {
   "cell_type": "code",
   "execution_count": 35,
   "metadata": {},
   "outputs": [
    {
     "data": {
      "text/plain": [
       "(1000000, 46)"
      ]
     },
     "execution_count": 35,
     "metadata": {},
     "output_type": "execute_result"
    }
   ],
   "source": [
    "df.shape"
   ]
  },
  {
   "cell_type": "code",
   "execution_count": 36,
   "metadata": {},
   "outputs": [
    {
     "data": {
      "text/plain": [
       "id                        0\n",
       "loanAmnt                  0\n",
       "term                      0\n",
       "interestRate              0\n",
       "installment               0\n",
       "grade                     0\n",
       "subGrade                  0\n",
       "employmentTitle           1\n",
       "employmentLength      58541\n",
       "homeOwnership             0\n",
       "annualIncome              0\n",
       "verificationStatus        0\n",
       "issueDate                 0\n",
       "purpose                   0\n",
       "postCode                  1\n",
       "regionCode                0\n",
       "dti                     300\n",
       "delinquency_2years        0\n",
       "ficoRangeLow              0\n",
       "ficoRangeHigh             0\n",
       "openAcc                   0\n",
       "pubRec                    0\n",
       "pubRecBankruptcies      521\n",
       "revolBal                  0\n",
       "revolUtil               658\n",
       "totalAcc                  0\n",
       "initialListStatus         0\n",
       "applicationType           0\n",
       "earliesCreditLine         0\n",
       "title                     1\n",
       "policyCode                0\n",
       "n0                    50381\n",
       "n1                    50381\n",
       "n2                    50381\n",
       "n3                    50381\n",
       "n4                    41633\n",
       "n5                    50381\n",
       "n6                    50381\n",
       "n7                    50381\n",
       "n8                    50382\n",
       "n9                    50381\n",
       "n10                   41633\n",
       "n11                   87327\n",
       "n12                   50381\n",
       "n13                   50381\n",
       "n14                   50381\n",
       "dtype: int64"
      ]
     },
     "execution_count": 36,
     "metadata": {},
     "output_type": "execute_result"
    }
   ],
   "source": [
    "df.isnull().sum()"
   ]
  },
  {
   "cell_type": "code",
   "execution_count": 37,
   "metadata": {},
   "outputs": [],
   "source": [
    "df = df.fillna(-1)"
   ]
  },
  {
   "cell_type": "markdown",
   "metadata": {},
   "source": []
  },
  {
   "cell_type": "markdown",
   "metadata": {},
   "source": [
    "## 2、特征工程构建"
   ]
  },
  {
   "cell_type": "code",
   "execution_count": 38,
   "metadata": {},
   "outputs": [
    {
     "data": {
      "text/plain": [
       "Index(['id', 'loanAmnt', 'term', 'interestRate', 'installment', 'grade',\n",
       "       'subGrade', 'employmentTitle', 'employmentLength', 'homeOwnership',\n",
       "       'annualIncome', 'verificationStatus', 'issueDate', 'purpose',\n",
       "       'postCode', 'regionCode', 'dti', 'delinquency_2years', 'ficoRangeLow',\n",
       "       'ficoRangeHigh', 'openAcc', 'pubRec', 'pubRecBankruptcies', 'revolBal',\n",
       "       'revolUtil', 'totalAcc', 'initialListStatus', 'applicationType',\n",
       "       'earliesCreditLine', 'title', 'policyCode', 'n0', 'n1', 'n2', 'n3',\n",
       "       'n4', 'n5', 'n6', 'n7', 'n8', 'n9', 'n10', 'n11', 'n12', 'n13', 'n14'],\n",
       "      dtype='object')"
      ]
     },
     "execution_count": 38,
     "metadata": {},
     "output_type": "execute_result"
    }
   ],
   "source": [
    "df.columns"
   ]
  },
  {
   "cell_type": "code",
   "execution_count": null,
   "metadata": {},
   "outputs": [],
   "source": [
    "import re"
   ]
  },
  {
   "cell_type": "code",
   "execution_count": 41,
   "metadata": {},
   "outputs": [
    {
     "data": {
      "text/plain": [
       "0           [2, years]\n",
       "1           [5, years]\n",
       "2           [8, years]\n",
       "3         [10+, years]\n",
       "4                  NaN\n",
       "              ...     \n",
       "199995      [7, years]\n",
       "199996       [1, year]\n",
       "199997      [8, years]\n",
       "199998      [4, years]\n",
       "199999      [7, years]\n",
       "Name: employmentLength, Length: 1000000, dtype: object"
      ]
     },
     "execution_count": 41,
     "metadata": {},
     "output_type": "execute_result"
    }
   ],
   "source": [
    "#改字段格式\n",
    "df['employmentLength'].str.split(' ')"
   ]
  },
  {
   "cell_type": "code",
   "execution_count": null,
   "metadata": {},
   "outputs": [],
   "source": [
    "print('dfdf')"
   ]
  },
  {
   "cell_type": "code",
   "execution_count": null,
   "metadata": {},
   "outputs": [],
   "source": [
    "print(dfd)"
   ]
  }
 ],
 "metadata": {
  "interpreter": {
   "hash": "f885247c757e5bc706eca734c41bca72c30e8db3f9023c8c41bc59b8003826e5"
  },
  "kernelspec": {
   "display_name": "Python 3.9.6 64-bit",
   "language": "python",
   "name": "python3"
  },
  "language_info": {
   "codemirror_mode": {
    "name": "ipython",
    "version": 3
   },
   "file_extension": ".py",
   "mimetype": "text/x-python",
   "name": "python",
   "nbconvert_exporter": "python",
   "pygments_lexer": "ipython3",
   "version": "3.8.8"
  },
  "orig_nbformat": 4
 },
 "nbformat": 4,
 "nbformat_minor": 2
}
