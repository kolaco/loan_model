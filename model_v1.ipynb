{
 "cells": [
  {
   "cell_type": "code",
   "execution_count": 2,
   "metadata": {},
   "outputs": [],
   "source": [
    "import pandas as pd\n",
    "import numpy as np\n",
    "import os"
   ]
  },
  {
   "cell_type": "markdown",
   "metadata": {},
   "source": [
    "## 1、数据前处理"
   ]
  },
  {
   "cell_type": "code",
   "execution_count": 3,
   "metadata": {},
   "outputs": [
    {
     "name": "stdout",
     "output_type": "stream",
     "text": [
      "d:\\bian\\Competition\\Loan default forecast\\2_model\n",
      "d:\\bian\\Competition\\Loan default forecast\n"
     ]
    }
   ],
   "source": [
    "FilePath = os.path.abspath('.')\n",
    "SuperPath = os.path.dirname(FilePath)\n",
    "DocPath = os.path.join(SuperPath, '1_Data')\n",
    "print(FilePath)\n",
    "print(SuperPath)"
   ]
  },
  {
   "cell_type": "code",
   "execution_count": 4,
   "metadata": {},
   "outputs": [],
   "source": [
    "test = pd.read_csv(os.path.join(DocPath, 'testA.csv'))\n",
    "train = pd.read_csv(os.path.join(DocPath, 'train.csv'))"
   ]
  },
  {
   "cell_type": "markdown",
   "metadata": {},
   "source": []
  },
  {
   "cell_type": "code",
   "execution_count": 5,
   "metadata": {},
   "outputs": [
    {
     "name": "stdout",
     "output_type": "stream",
     "text": [
      "<class 'pandas.core.frame.DataFrame'>\n",
      "RangeIndex: 200000 entries, 0 to 199999\n",
      "Data columns (total 46 columns):\n",
      "id                    200000 non-null int64\n",
      "loanAmnt              200000 non-null float64\n",
      "term                  200000 non-null int64\n",
      "interestRate          200000 non-null float64\n",
      "installment           200000 non-null float64\n",
      "grade                 200000 non-null object\n",
      "subGrade              200000 non-null object\n",
      "employmentTitle       200000 non-null float64\n",
      "employmentLength      188258 non-null object\n",
      "homeOwnership         200000 non-null int64\n",
      "annualIncome          200000 non-null float64\n",
      "verificationStatus    200000 non-null int64\n",
      "issueDate             200000 non-null object\n",
      "purpose               200000 non-null int64\n",
      "postCode              200000 non-null float64\n",
      "regionCode            200000 non-null int64\n",
      "dti                   199939 non-null float64\n",
      "delinquency_2years    200000 non-null float64\n",
      "ficoRangeLow          200000 non-null float64\n",
      "ficoRangeHigh         200000 non-null float64\n",
      "openAcc               200000 non-null float64\n",
      "pubRec                200000 non-null float64\n",
      "pubRecBankruptcies    199884 non-null float64\n",
      "revolBal              200000 non-null float64\n",
      "revolUtil             199873 non-null float64\n",
      "totalAcc              200000 non-null float64\n",
      "initialListStatus     200000 non-null int64\n",
      "applicationType       200000 non-null int64\n",
      "earliesCreditLine     200000 non-null object\n",
      "title                 200000 non-null float64\n",
      "policyCode            200000 non-null float64\n",
      "n0                    189889 non-null float64\n",
      "n1                    189889 non-null float64\n",
      "n2                    189889 non-null float64\n",
      "n3                    189889 non-null float64\n",
      "n4                    191606 non-null float64\n",
      "n5                    189889 non-null float64\n",
      "n6                    189889 non-null float64\n",
      "n7                    189889 non-null float64\n",
      "n8                    189889 non-null float64\n",
      "n9                    189889 non-null float64\n",
      "n10                   191606 non-null float64\n",
      "n11                   182425 non-null float64\n",
      "n12                   189889 non-null float64\n",
      "n13                   189889 non-null float64\n",
      "n14                   189889 non-null float64\n",
      "dtypes: float64(33), int64(8), object(5)\n",
      "memory usage: 70.2+ MB\n"
     ]
    }
   ],
   "source": [
    "test.info()"
   ]
  },
  {
   "cell_type": "code",
   "execution_count": 5,
   "metadata": {},
   "outputs": [
    {
     "name": "stdout",
     "output_type": "stream",
     "text": [
      "<class 'pandas.core.frame.DataFrame'>\n",
      "RangeIndex: 800000 entries, 0 to 799999\n",
      "Data columns (total 47 columns):\n",
      "id                    800000 non-null int64\n",
      "loanAmnt              800000 non-null float64\n",
      "term                  800000 non-null int64\n",
      "interestRate          800000 non-null float64\n",
      "installment           800000 non-null float64\n",
      "grade                 800000 non-null object\n",
      "subGrade              800000 non-null object\n",
      "employmentTitle       799999 non-null float64\n",
      "employmentLength      753201 non-null object\n",
      "homeOwnership         800000 non-null int64\n",
      "annualIncome          800000 non-null float64\n",
      "verificationStatus    800000 non-null int64\n",
      "issueDate             800000 non-null object\n",
      "isDefault             800000 non-null int64\n",
      "purpose               800000 non-null int64\n",
      "postCode              799999 non-null float64\n",
      "regionCode            800000 non-null int64\n",
      "dti                   799761 non-null float64\n",
      "delinquency_2years    800000 non-null float64\n",
      "ficoRangeLow          800000 non-null float64\n",
      "ficoRangeHigh         800000 non-null float64\n",
      "openAcc               800000 non-null float64\n",
      "pubRec                800000 non-null float64\n",
      "pubRecBankruptcies    799595 non-null float64\n",
      "revolBal              800000 non-null float64\n",
      "revolUtil             799469 non-null float64\n",
      "totalAcc              800000 non-null float64\n",
      "initialListStatus     800000 non-null int64\n",
      "applicationType       800000 non-null int64\n",
      "earliesCreditLine     800000 non-null object\n",
      "title                 799999 non-null float64\n",
      "policyCode            800000 non-null float64\n",
      "n0                    759730 non-null float64\n",
      "n1                    759730 non-null float64\n",
      "n2                    759730 non-null float64\n",
      "n3                    759730 non-null float64\n",
      "n4                    766761 non-null float64\n",
      "n5                    759730 non-null float64\n",
      "n6                    759730 non-null float64\n",
      "n7                    759730 non-null float64\n",
      "n8                    759729 non-null float64\n",
      "n9                    759730 non-null float64\n",
      "n10                   766761 non-null float64\n",
      "n11                   730248 non-null float64\n",
      "n12                   759730 non-null float64\n",
      "n13                   759730 non-null float64\n",
      "n14                   759730 non-null float64\n",
      "dtypes: float64(33), int64(9), object(5)\n",
      "memory usage: 286.9+ MB\n"
     ]
    }
   ],
   "source": [
    "train.info()"
   ]
  },
  {
   "cell_type": "code",
   "execution_count": 6,
   "metadata": {},
   "outputs": [],
   "source": [
    "label = train[['id','isDefault']]"
   ]
  },
  {
   "cell_type": "code",
   "execution_count": 7,
   "metadata": {},
   "outputs": [
    {
     "data": {
      "text/plain": [
       "0    640390\n",
       "1    159610\n",
       "Name: isDefault, dtype: int64"
      ]
     },
     "execution_count": 7,
     "metadata": {},
     "output_type": "execute_result"
    }
   ],
   "source": [
    "#查看样本是否平衡\n",
    "label['isDefault'].value_counts()"
   ]
  },
  {
   "cell_type": "code",
   "execution_count": 8,
   "metadata": {},
   "outputs": [],
   "source": [
    "train = train.drop('isDefault', axis=1)"
   ]
  },
  {
   "cell_type": "code",
   "execution_count": 9,
   "metadata": {},
   "outputs": [],
   "source": [
    "df = train.append(test)"
   ]
  },
  {
   "cell_type": "code",
   "execution_count": 10,
   "metadata": {},
   "outputs": [
    {
     "data": {
      "text/plain": [
       "(1000000, 46)"
      ]
     },
     "execution_count": 10,
     "metadata": {},
     "output_type": "execute_result"
    }
   ],
   "source": [
    "df.shape"
   ]
  },
  {
   "cell_type": "code",
   "execution_count": 11,
   "metadata": {},
   "outputs": [
    {
     "data": {
      "text/plain": [
       "id                        0\n",
       "loanAmnt                  0\n",
       "term                      0\n",
       "interestRate              0\n",
       "installment               0\n",
       "grade                     0\n",
       "subGrade                  0\n",
       "employmentTitle           1\n",
       "employmentLength      58541\n",
       "homeOwnership             0\n",
       "annualIncome              0\n",
       "verificationStatus        0\n",
       "issueDate                 0\n",
       "purpose                   0\n",
       "postCode                  1\n",
       "regionCode                0\n",
       "dti                     300\n",
       "delinquency_2years        0\n",
       "ficoRangeLow              0\n",
       "ficoRangeHigh             0\n",
       "openAcc                   0\n",
       "pubRec                    0\n",
       "pubRecBankruptcies      521\n",
       "revolBal                  0\n",
       "revolUtil               658\n",
       "totalAcc                  0\n",
       "initialListStatus         0\n",
       "applicationType           0\n",
       "earliesCreditLine         0\n",
       "title                     1\n",
       "policyCode                0\n",
       "n0                    50381\n",
       "n1                    50381\n",
       "n2                    50381\n",
       "n3                    50381\n",
       "n4                    41633\n",
       "n5                    50381\n",
       "n6                    50381\n",
       "n7                    50381\n",
       "n8                    50382\n",
       "n9                    50381\n",
       "n10                   41633\n",
       "n11                   87327\n",
       "n12                   50381\n",
       "n13                   50381\n",
       "n14                   50381\n",
       "dtype: int64"
      ]
     },
     "execution_count": 11,
     "metadata": {},
     "output_type": "execute_result"
    }
   ],
   "source": [
    "df.isnull().sum()"
   ]
  },
  {
   "cell_type": "code",
   "execution_count": 12,
   "metadata": {},
   "outputs": [
    {
     "data": {
      "text/plain": [
       "array([ 7., 13., 11.,  9., 12., 19.,  8., 15., 10., 16.,  5.,  6., 23.,\n",
       "       17., nan, 29., 21.,  4., 14., 54.,  3., 31., 26., 20., 18., 24.,\n",
       "       42.,  2., 32., 28., 41., 37., 52., 25., 27., 39., 22., 43., 35.,\n",
       "       33., 38., 34., 36., 40., 30., 45., 46.,  1., 44., 56., 51., 48.,\n",
       "       49., 58.,  0., 47., 61., 55., 76., 53., 81., 50., 57., 66., 60.,\n",
       "       72., 62., 77., 70., 82., 59., 80., 64., 63., 75., 74., 67., 68.,\n",
       "       84., 90., 65.])"
      ]
     },
     "execution_count": 12,
     "metadata": {},
     "output_type": "execute_result"
    }
   ],
   "source": [
    "df['n10'].unique()"
   ]
  },
  {
   "cell_type": "code",
   "execution_count": 13,
   "metadata": {},
   "outputs": [],
   "source": [
    "df = df.fillna(-1)"
   ]
  },
  {
   "cell_type": "markdown",
   "metadata": {},
   "source": []
  },
  {
   "cell_type": "markdown",
   "metadata": {},
   "source": [
    "## 2、特征工程构建"
   ]
  },
  {
   "cell_type": "code",
   "execution_count": 14,
   "metadata": {},
   "outputs": [
    {
     "data": {
      "text/plain": [
       "Index(['id', 'loanAmnt', 'term', 'interestRate', 'installment', 'grade',\n",
       "       'subGrade', 'employmentTitle', 'employmentLength', 'homeOwnership',\n",
       "       'annualIncome', 'verificationStatus', 'issueDate', 'purpose',\n",
       "       'postCode', 'regionCode', 'dti', 'delinquency_2years', 'ficoRangeLow',\n",
       "       'ficoRangeHigh', 'openAcc', 'pubRec', 'pubRecBankruptcies', 'revolBal',\n",
       "       'revolUtil', 'totalAcc', 'initialListStatus', 'applicationType',\n",
       "       'earliesCreditLine', 'title', 'policyCode', 'n0', 'n1', 'n2', 'n3',\n",
       "       'n4', 'n5', 'n6', 'n7', 'n8', 'n9', 'n10', 'n11', 'n12', 'n13', 'n14'],\n",
       "      dtype='object')"
      ]
     },
     "execution_count": 14,
     "metadata": {},
     "output_type": "execute_result"
    }
   ],
   "source": [
    "df.columns"
   ]
  },
  {
   "cell_type": "code",
   "execution_count": null,
   "metadata": {},
   "outputs": [],
   "source": [
    "import re"
   ]
  },
  {
   "cell_type": "code",
   "execution_count": 17,
   "metadata": {},
   "outputs": [
    {
     "data": {
      "text/plain": [
       "10+ years    328525\n",
       "2 years       90565\n",
       "< 1 year      80226\n",
       "3 years       80163\n",
       "1 year        65671\n",
       "5 years       62645\n",
       "4 years       59818\n",
       "-1            58541\n",
       "6 years       46582\n",
       "8 years       45168\n",
       "7 years       44230\n",
       "9 years       37866\n",
       "Name: employmentLength, dtype: int64"
      ]
     },
     "execution_count": 17,
     "metadata": {},
     "output_type": "execute_result"
    }
   ],
   "source": [
    "#改字段格式\n",
    "df['employmentLength'].value_counts()"
   ]
  },
  {
   "cell_type": "code",
   "execution_count": 18,
   "metadata": {},
   "outputs": [],
   "source": [
    "df['employmentLength'] = df['employmentLength'].apply(lambda x: '0 year' if str(x) =='< 1 year'else '10 year' if str(x) == '10+ years'\n",
    " else '-1 years' if str(x) == '-1' else x)"
   ]
  },
  {
   "cell_type": "code",
   "execution_count": 19,
   "metadata": {},
   "outputs": [
    {
     "data": {
      "text/plain": [
       "10 year     328525\n",
       "2 years      90565\n",
       "0 year       80226\n",
       "3 years      80163\n",
       "1 year       65671\n",
       "5 years      62645\n",
       "4 years      59818\n",
       "-1 years     58541\n",
       "6 years      46582\n",
       "8 years      45168\n",
       "7 years      44230\n",
       "9 years      37866\n",
       "Name: employmentLength, dtype: int64"
      ]
     },
     "execution_count": 19,
     "metadata": {},
     "output_type": "execute_result"
    }
   ],
   "source": [
    "df['employmentLength'].value_counts()"
   ]
  },
  {
   "cell_type": "code",
   "execution_count": 20,
   "metadata": {},
   "outputs": [],
   "source": [
    "df['employmentLength'] = df['employmentLength'].apply(lambda x:str(x).split(' ')[0])"
   ]
  },
  {
   "cell_type": "code",
   "execution_count": 23,
   "metadata": {},
   "outputs": [],
   "source": [
    "df['earliesCreditLine_year'] = df['earliesCreditLine'].apply(lambda x:str(x).split('-')[1])"
   ]
  },
  {
   "cell_type": "code",
   "execution_count": 24,
   "metadata": {},
   "outputs": [],
   "source": [
    "# df['earliesCreditLine_month'] = df['earliesCreditLine'].apply(lambda x:str(x).split('-')[0])"
   ]
  },
  {
   "cell_type": "code",
   "execution_count": 26,
   "metadata": {},
   "outputs": [
    {
     "data": {
      "text/plain": [
       "2001    66365\n",
       "2002    63893\n",
       "2003    63253\n",
       "2000    63205\n",
       "2004    61762\n",
       "1999    57442\n",
       "2005    55037\n",
       "1998    48544\n",
       "2006    47405\n",
       "1997    41540\n",
       "1996    40652\n",
       "1995    38128\n",
       "2007    35492\n",
       "1994    34118\n",
       "1993    27881\n",
       "2008    22697\n",
       "1992    19825\n",
       "1990    19513\n",
       "1991    18335\n",
       "1989    17727\n",
       "1988    14721\n",
       "2009    14334\n",
       "2010    13329\n",
       "1987    13216\n",
       "2011    12282\n",
       "1986    11415\n",
       "1985    10010\n",
       "1984     9144\n",
       "2012     8304\n",
       "1983     7448\n",
       "        ...  \n",
       "1974     1510\n",
       "1973     1381\n",
       "1972     1207\n",
       "1971      796\n",
       "1970      743\n",
       "1969      717\n",
       "1968      533\n",
       "1967      470\n",
       "1966      307\n",
       "1965      301\n",
       "2015      251\n",
       "1964      215\n",
       "1963      147\n",
       "1962      100\n",
       "1960       67\n",
       "1961       67\n",
       "1959       52\n",
       "1958       27\n",
       "1957       18\n",
       "1956       12\n",
       "1955       10\n",
       "1951        9\n",
       "1950        7\n",
       "1952        7\n",
       "1953        6\n",
       "1954        6\n",
       "1944        2\n",
       "1946        2\n",
       "1949        1\n",
       "1945        1\n",
       "Name: earliesCreditLine_year, Length: 70, dtype: int64"
      ]
     },
     "execution_count": 26,
     "metadata": {},
     "output_type": "execute_result"
    }
   ],
   "source": [
    "df['earliesCreditLine_year'].value_counts()"
   ]
  },
  {
   "cell_type": "code",
   "execution_count": 28,
   "metadata": {},
   "outputs": [],
   "source": [
    "# 等级变换\n",
    "df['grade'] = df['grade'].map({'A':1,'B':2,'C':3,'D':4,'E':5})"
   ]
  },
  {
   "cell_type": "code",
   "execution_count": 29,
   "metadata": {},
   "outputs": [
    {
     "data": {
      "text/html": [
       "<div>\n",
       "<style scoped>\n",
       "    .dataframe tbody tr th:only-of-type {\n",
       "        vertical-align: middle;\n",
       "    }\n",
       "\n",
       "    .dataframe tbody tr th {\n",
       "        vertical-align: top;\n",
       "    }\n",
       "\n",
       "    .dataframe thead th {\n",
       "        text-align: right;\n",
       "    }\n",
       "</style>\n",
       "<table border=\"1\" class=\"dataframe\">\n",
       "  <thead>\n",
       "    <tr style=\"text-align: right;\">\n",
       "      <th></th>\n",
       "      <th>id</th>\n",
       "      <th>loanAmnt</th>\n",
       "      <th>term</th>\n",
       "      <th>interestRate</th>\n",
       "      <th>installment</th>\n",
       "      <th>grade</th>\n",
       "      <th>subGrade</th>\n",
       "      <th>employmentTitle</th>\n",
       "      <th>employmentLength</th>\n",
       "      <th>homeOwnership</th>\n",
       "      <th>...</th>\n",
       "      <th>n7</th>\n",
       "      <th>n8</th>\n",
       "      <th>n9</th>\n",
       "      <th>n10</th>\n",
       "      <th>n11</th>\n",
       "      <th>n12</th>\n",
       "      <th>n13</th>\n",
       "      <th>n14</th>\n",
       "      <th>earliesCreditLine_year</th>\n",
       "      <th>earliesCreditLine_month</th>\n",
       "    </tr>\n",
       "  </thead>\n",
       "  <tbody>\n",
       "    <tr>\n",
       "      <th>0</th>\n",
       "      <td>0</td>\n",
       "      <td>35000.0</td>\n",
       "      <td>5</td>\n",
       "      <td>19.52</td>\n",
       "      <td>917.97</td>\n",
       "      <td>5.0</td>\n",
       "      <td>E2</td>\n",
       "      <td>320.0</td>\n",
       "      <td>2</td>\n",
       "      <td>2</td>\n",
       "      <td>...</td>\n",
       "      <td>4.0</td>\n",
       "      <td>12.0</td>\n",
       "      <td>2.0</td>\n",
       "      <td>7.0</td>\n",
       "      <td>0.0</td>\n",
       "      <td>0.0</td>\n",
       "      <td>0.0</td>\n",
       "      <td>2.0</td>\n",
       "      <td>2001</td>\n",
       "      <td>Aug</td>\n",
       "    </tr>\n",
       "    <tr>\n",
       "      <th>1</th>\n",
       "      <td>1</td>\n",
       "      <td>18000.0</td>\n",
       "      <td>5</td>\n",
       "      <td>18.49</td>\n",
       "      <td>461.90</td>\n",
       "      <td>4.0</td>\n",
       "      <td>D2</td>\n",
       "      <td>219843.0</td>\n",
       "      <td>5</td>\n",
       "      <td>0</td>\n",
       "      <td>...</td>\n",
       "      <td>-1.0</td>\n",
       "      <td>-1.0</td>\n",
       "      <td>-1.0</td>\n",
       "      <td>13.0</td>\n",
       "      <td>-1.0</td>\n",
       "      <td>-1.0</td>\n",
       "      <td>-1.0</td>\n",
       "      <td>-1.0</td>\n",
       "      <td>2002</td>\n",
       "      <td>May</td>\n",
       "    </tr>\n",
       "    <tr>\n",
       "      <th>2</th>\n",
       "      <td>2</td>\n",
       "      <td>12000.0</td>\n",
       "      <td>5</td>\n",
       "      <td>16.99</td>\n",
       "      <td>298.17</td>\n",
       "      <td>4.0</td>\n",
       "      <td>D3</td>\n",
       "      <td>31698.0</td>\n",
       "      <td>8</td>\n",
       "      <td>0</td>\n",
       "      <td>...</td>\n",
       "      <td>4.0</td>\n",
       "      <td>5.0</td>\n",
       "      <td>3.0</td>\n",
       "      <td>11.0</td>\n",
       "      <td>0.0</td>\n",
       "      <td>0.0</td>\n",
       "      <td>0.0</td>\n",
       "      <td>4.0</td>\n",
       "      <td>2006</td>\n",
       "      <td>May</td>\n",
       "    </tr>\n",
       "    <tr>\n",
       "      <th>3</th>\n",
       "      <td>3</td>\n",
       "      <td>11000.0</td>\n",
       "      <td>3</td>\n",
       "      <td>7.26</td>\n",
       "      <td>340.96</td>\n",
       "      <td>1.0</td>\n",
       "      <td>A4</td>\n",
       "      <td>46854.0</td>\n",
       "      <td>10</td>\n",
       "      <td>1</td>\n",
       "      <td>...</td>\n",
       "      <td>7.0</td>\n",
       "      <td>21.0</td>\n",
       "      <td>6.0</td>\n",
       "      <td>9.0</td>\n",
       "      <td>0.0</td>\n",
       "      <td>0.0</td>\n",
       "      <td>0.0</td>\n",
       "      <td>1.0</td>\n",
       "      <td>1999</td>\n",
       "      <td>May</td>\n",
       "    </tr>\n",
       "    <tr>\n",
       "      <th>4</th>\n",
       "      <td>4</td>\n",
       "      <td>3000.0</td>\n",
       "      <td>3</td>\n",
       "      <td>12.99</td>\n",
       "      <td>101.07</td>\n",
       "      <td>3.0</td>\n",
       "      <td>C2</td>\n",
       "      <td>54.0</td>\n",
       "      <td>-1</td>\n",
       "      <td>1</td>\n",
       "      <td>...</td>\n",
       "      <td>10.0</td>\n",
       "      <td>15.0</td>\n",
       "      <td>7.0</td>\n",
       "      <td>12.0</td>\n",
       "      <td>0.0</td>\n",
       "      <td>0.0</td>\n",
       "      <td>0.0</td>\n",
       "      <td>4.0</td>\n",
       "      <td>1977</td>\n",
       "      <td>Aug</td>\n",
       "    </tr>\n",
       "  </tbody>\n",
       "</table>\n",
       "<p>5 rows × 48 columns</p>\n",
       "</div>"
      ],
      "text/plain": [
       "   id  loanAmnt  term  interestRate  installment  grade subGrade  \\\n",
       "0   0   35000.0     5         19.52       917.97    5.0       E2   \n",
       "1   1   18000.0     5         18.49       461.90    4.0       D2   \n",
       "2   2   12000.0     5         16.99       298.17    4.0       D3   \n",
       "3   3   11000.0     3          7.26       340.96    1.0       A4   \n",
       "4   4    3000.0     3         12.99       101.07    3.0       C2   \n",
       "\n",
       "   employmentTitle employmentLength  homeOwnership           ...             \\\n",
       "0            320.0                2              2           ...              \n",
       "1         219843.0                5              0           ...              \n",
       "2          31698.0                8              0           ...              \n",
       "3          46854.0               10              1           ...              \n",
       "4             54.0               -1              1           ...              \n",
       "\n",
       "     n7    n8   n9   n10  n11  n12  n13  n14  earliesCreditLine_year  \\\n",
       "0   4.0  12.0  2.0   7.0  0.0  0.0  0.0  2.0                    2001   \n",
       "1  -1.0  -1.0 -1.0  13.0 -1.0 -1.0 -1.0 -1.0                    2002   \n",
       "2   4.0   5.0  3.0  11.0  0.0  0.0  0.0  4.0                    2006   \n",
       "3   7.0  21.0  6.0   9.0  0.0  0.0  0.0  1.0                    1999   \n",
       "4  10.0  15.0  7.0  12.0  0.0  0.0  0.0  4.0                    1977   \n",
       "\n",
       "   earliesCreditLine_month  \n",
       "0                      Aug  \n",
       "1                      May  \n",
       "2                      May  \n",
       "3                      May  \n",
       "4                      Aug  \n",
       "\n",
       "[5 rows x 48 columns]"
      ]
     },
     "execution_count": 29,
     "metadata": {},
     "output_type": "execute_result"
    }
   ],
   "source": [
    "df.head()"
   ]
  },
  {
   "cell_type": "markdown",
   "metadata": {},
   "source": [
    "## 对变量进行分类\n",
    "1、分类变量\n",
    "2、数值变量\n",
    "3、时间序列"
   ]
  },
  {
   "cell_type": "markdown",
   "metadata": {},
   "source": []
  }
 ],
 "metadata": {
  "interpreter": {
   "hash": "f885247c757e5bc706eca734c41bca72c30e8db3f9023c8c41bc59b8003826e5"
  },
  "kernelspec": {
   "display_name": "Python 3.9.6 64-bit",
   "language": "python",
   "name": "python3"
  },
  "language_info": {
   "codemirror_mode": {
    "name": "ipython",
    "version": 3
   },
   "file_extension": ".py",
   "mimetype": "text/x-python",
   "name": "python",
   "nbconvert_exporter": "python",
   "pygments_lexer": "ipython3",
   "version": "3.6.5"
  },
  "orig_nbformat": 4
 },
 "nbformat": 4,
 "nbformat_minor": 2
}
