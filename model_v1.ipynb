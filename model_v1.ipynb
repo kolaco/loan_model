{
 "cells": [
  {
   "cell_type": "code",
   "execution_count": 2,
   "metadata": {},
   "outputs": [],
   "source": [
    "import pandas as pd\n",
    "import numpy as np\n",
    "import os"
   ]
  },
  {
   "cell_type": "markdown",
   "metadata": {},
   "source": [
    "## 1、数据前处理"
   ]
  },
  {
   "cell_type": "code",
   "execution_count": 3,
   "metadata": {},
   "outputs": [
    {
     "name": "stdout",
     "output_type": "stream",
     "text": [
      "d:\\bian\\Competition\\Loan default forecast\\2_model\n",
      "d:\\bian\\Competition\\Loan default forecast\n"
     ]
    }
   ],
   "source": [
    "FilePath = os.path.abspath('.')\n",
    "SuperPath = os.path.dirname(FilePath)\n",
    "DocPath = os.path.join(SuperPath, '1_Data')\n",
    "print(FilePath)\n",
    "print(SuperPath)"
   ]
  },
  {
   "cell_type": "code",
   "execution_count": 4,
   "metadata": {},
   "outputs": [],
   "source": [
    "test = pd.read_csv(os.path.join(DocPath, 'testA.csv'))\n",
    "train = pd.read_csv(os.path.join(DocPath, 'train.csv'))"
   ]
  },
  {
   "cell_type": "markdown",
   "metadata": {},
   "source": []
  },
  {
   "cell_type": "code",
   "execution_count": 5,
   "metadata": {},
   "outputs": [
    {
     "name": "stdout",
     "output_type": "stream",
     "text": [
      "<class 'pandas.core.frame.DataFrame'>\n",
      "RangeIndex: 200000 entries, 0 to 199999\n",
      "Data columns (total 46 columns):\n",
      "id                    200000 non-null int64\n",
      "loanAmnt              200000 non-null float64\n",
      "term                  200000 non-null int64\n",
      "interestRate          200000 non-null float64\n",
      "installment           200000 non-null float64\n",
      "grade                 200000 non-null object\n",
      "subGrade              200000 non-null object\n",
      "employmentTitle       200000 non-null float64\n",
      "employmentLength      188258 non-null object\n",
      "homeOwnership         200000 non-null int64\n",
      "annualIncome          200000 non-null float64\n",
      "verificationStatus    200000 non-null int64\n",
      "issueDate             200000 non-null object\n",
      "purpose               200000 non-null int64\n",
      "postCode              200000 non-null float64\n",
      "regionCode            200000 non-null int64\n",
      "dti                   199939 non-null float64\n",
      "delinquency_2years    200000 non-null float64\n",
      "ficoRangeLow          200000 non-null float64\n",
      "ficoRangeHigh         200000 non-null float64\n",
      "openAcc               200000 non-null float64\n",
      "pubRec                200000 non-null float64\n",
      "pubRecBankruptcies    199884 non-null float64\n",
      "revolBal              200000 non-null float64\n",
      "revolUtil             199873 non-null float64\n",
      "totalAcc              200000 non-null float64\n",
      "initialListStatus     200000 non-null int64\n",
      "applicationType       200000 non-null int64\n",
      "earliesCreditLine     200000 non-null object\n",
      "title                 200000 non-null float64\n",
      "policyCode            200000 non-null float64\n",
      "n0                    189889 non-null float64\n",
      "n1                    189889 non-null float64\n",
      "n2                    189889 non-null float64\n",
      "n3                    189889 non-null float64\n",
      "n4                    191606 non-null float64\n",
      "n5                    189889 non-null float64\n",
      "n6                    189889 non-null float64\n",
      "n7                    189889 non-null float64\n",
      "n8                    189889 non-null float64\n",
      "n9                    189889 non-null float64\n",
      "n10                   191606 non-null float64\n",
      "n11                   182425 non-null float64\n",
      "n12                   189889 non-null float64\n",
      "n13                   189889 non-null float64\n",
      "n14                   189889 non-null float64\n",
      "dtypes: float64(33), int64(8), object(5)\n",
      "memory usage: 70.2+ MB\n"
     ]
    }
   ],
   "source": [
    "test.info()"
   ]
  },
  {
   "cell_type": "code",
   "execution_count": 5,
   "metadata": {},
   "outputs": [
    {
     "name": "stdout",
     "output_type": "stream",
     "text": [
      "<class 'pandas.core.frame.DataFrame'>\n",
      "RangeIndex: 800000 entries, 0 to 799999\n",
      "Data columns (total 47 columns):\n",
      "id                    800000 non-null int64\n",
      "loanAmnt              800000 non-null float64\n",
      "term                  800000 non-null int64\n",
      "interestRate          800000 non-null float64\n",
      "installment           800000 non-null float64\n",
      "grade                 800000 non-null object\n",
      "subGrade              800000 non-null object\n",
      "employmentTitle       799999 non-null float64\n",
      "employmentLength      753201 non-null object\n",
      "homeOwnership         800000 non-null int64\n",
      "annualIncome          800000 non-null float64\n",
      "verificationStatus    800000 non-null int64\n",
      "issueDate             800000 non-null object\n",
      "isDefault             800000 non-null int64\n",
      "purpose               800000 non-null int64\n",
      "postCode              799999 non-null float64\n",
      "regionCode            800000 non-null int64\n",
      "dti                   799761 non-null float64\n",
      "delinquency_2years    800000 non-null float64\n",
      "ficoRangeLow          800000 non-null float64\n",
      "ficoRangeHigh         800000 non-null float64\n",
      "openAcc               800000 non-null float64\n",
      "pubRec                800000 non-null float64\n",
      "pubRecBankruptcies    799595 non-null float64\n",
      "revolBal              800000 non-null float64\n",
      "revolUtil             799469 non-null float64\n",
      "totalAcc              800000 non-null float64\n",
      "initialListStatus     800000 non-null int64\n",
      "applicationType       800000 non-null int64\n",
      "earliesCreditLine     800000 non-null object\n",
      "title                 799999 non-null float64\n",
      "policyCode            800000 non-null float64\n",
      "n0                    759730 non-null float64\n",
      "n1                    759730 non-null float64\n",
      "n2                    759730 non-null float64\n",
      "n3                    759730 non-null float64\n",
      "n4                    766761 non-null float64\n",
      "n5                    759730 non-null float64\n",
      "n6                    759730 non-null float64\n",
      "n7                    759730 non-null float64\n",
      "n8                    759729 non-null float64\n",
      "n9                    759730 non-null float64\n",
      "n10                   766761 non-null float64\n",
      "n11                   730248 non-null float64\n",
      "n12                   759730 non-null float64\n",
      "n13                   759730 non-null float64\n",
      "n14                   759730 non-null float64\n",
      "dtypes: float64(33), int64(9), object(5)\n",
      "memory usage: 286.9+ MB\n"
     ]
    }
   ],
   "source": [
    "train.info()"
   ]
  },
  {
   "cell_type": "code",
   "execution_count": 6,
   "metadata": {},
   "outputs": [],
   "source": [
    "label = train[['id','isDefault']]"
   ]
  },
  {
   "cell_type": "code",
   "execution_count": 7,
   "metadata": {},
   "outputs": [
    {
     "data": {
      "text/plain": [
       "0    640390\n",
       "1    159610\n",
       "Name: isDefault, dtype: int64"
      ]
     },
     "execution_count": 7,
     "metadata": {},
     "output_type": "execute_result"
    }
   ],
   "source": [
    "#查看样本是否平衡\n",
    "label['isDefault'].value_counts()"
   ]
  },
  {
   "cell_type": "code",
   "execution_count": 8,
   "metadata": {},
   "outputs": [],
   "source": [
    "train = train.drop('isDefault', axis=1)"
   ]
  },
  {
   "cell_type": "code",
   "execution_count": 9,
   "metadata": {},
   "outputs": [],
   "source": [
    "df = train.append(test)"
   ]
  },
  {
   "cell_type": "code",
   "execution_count": 10,
   "metadata": {},
   "outputs": [
    {
     "data": {
      "text/plain": [
       "(1000000, 46)"
      ]
     },
     "execution_count": 10,
     "metadata": {},
     "output_type": "execute_result"
    }
   ],
   "source": [
    "df.shape"
   ]
  },
  {
   "cell_type": "code",
   "execution_count": 11,
   "metadata": {},
   "outputs": [
    {
     "data": {
      "text/plain": [
       "id                        0\n",
       "loanAmnt                  0\n",
       "term                      0\n",
       "interestRate              0\n",
       "installment               0\n",
       "grade                     0\n",
       "subGrade                  0\n",
       "employmentTitle           1\n",
       "employmentLength      58541\n",
       "homeOwnership             0\n",
       "annualIncome              0\n",
       "verificationStatus        0\n",
       "issueDate                 0\n",
       "purpose                   0\n",
       "postCode                  1\n",
       "regionCode                0\n",
       "dti                     300\n",
       "delinquency_2years        0\n",
       "ficoRangeLow              0\n",
       "ficoRangeHigh             0\n",
       "openAcc                   0\n",
       "pubRec                    0\n",
       "pubRecBankruptcies      521\n",
       "revolBal                  0\n",
       "revolUtil               658\n",
       "totalAcc                  0\n",
       "initialListStatus         0\n",
       "applicationType           0\n",
       "earliesCreditLine         0\n",
       "title                     1\n",
       "policyCode                0\n",
       "n0                    50381\n",
       "n1                    50381\n",
       "n2                    50381\n",
       "n3                    50381\n",
       "n4                    41633\n",
       "n5                    50381\n",
       "n6                    50381\n",
       "n7                    50381\n",
       "n8                    50382\n",
       "n9                    50381\n",
       "n10                   41633\n",
       "n11                   87327\n",
       "n12                   50381\n",
       "n13                   50381\n",
       "n14                   50381\n",
       "dtype: int64"
      ]
     },
     "execution_count": 11,
     "metadata": {},
     "output_type": "execute_result"
    }
   ],
   "source": [
    "df.isnull().sum()"
   ]
  },
  {
   "cell_type": "code",
   "execution_count": 12,
   "metadata": {},
   "outputs": [
    {
     "data": {
      "text/plain": [
       "array([ 7., 13., 11.,  9., 12., 19.,  8., 15., 10., 16.,  5.,  6., 23.,\n",
       "       17., nan, 29., 21.,  4., 14., 54.,  3., 31., 26., 20., 18., 24.,\n",
       "       42.,  2., 32., 28., 41., 37., 52., 25., 27., 39., 22., 43., 35.,\n",
       "       33., 38., 34., 36., 40., 30., 45., 46.,  1., 44., 56., 51., 48.,\n",
       "       49., 58.,  0., 47., 61., 55., 76., 53., 81., 50., 57., 66., 60.,\n",
       "       72., 62., 77., 70., 82., 59., 80., 64., 63., 75., 74., 67., 68.,\n",
       "       84., 90., 65.])"
      ]
     },
     "execution_count": 12,
     "metadata": {},
     "output_type": "execute_result"
    }
   ],
   "source": [
    "df['n10'].unique()"
   ]
  },
  {
   "cell_type": "code",
   "execution_count": 13,
   "metadata": {},
   "outputs": [],
   "source": [
    "df = df.fillna(-1)"
   ]
  },
  {
   "cell_type": "markdown",
   "metadata": {},
   "source": []
  },
  {
   "cell_type": "markdown",
   "metadata": {},
   "source": [
    "## 2、特征工程构建"
   ]
  },
  {
   "cell_type": "code",
   "execution_count": 14,
   "metadata": {},
   "outputs": [
    {
     "data": {
      "text/plain": [
       "Index(['id', 'loanAmnt', 'term', 'interestRate', 'installment', 'grade',\n",
       "       'subGrade', 'employmentTitle', 'employmentLength', 'homeOwnership',\n",
       "       'annualIncome', 'verificationStatus', 'issueDate', 'purpose',\n",
       "       'postCode', 'regionCode', 'dti', 'delinquency_2years', 'ficoRangeLow',\n",
       "       'ficoRangeHigh', 'openAcc', 'pubRec', 'pubRecBankruptcies', 'revolBal',\n",
       "       'revolUtil', 'totalAcc', 'initialListStatus', 'applicationType',\n",
       "       'earliesCreditLine', 'title', 'policyCode', 'n0', 'n1', 'n2', 'n3',\n",
       "       'n4', 'n5', 'n6', 'n7', 'n8', 'n9', 'n10', 'n11', 'n12', 'n13', 'n14'],\n",
       "      dtype='object')"
      ]
     },
     "execution_count": 14,
     "metadata": {},
     "output_type": "execute_result"
    }
   ],
   "source": [
    "df.columns"
   ]
  },
  {
   "cell_type": "code",
   "execution_count": null,
   "metadata": {},
   "outputs": [],
   "source": [
    "import re"
   ]
  },
  {
   "cell_type": "code",
   "execution_count": 16,
   "metadata": {},
   "outputs": [
    {
     "data": {
      "text/plain": [
       "0           [2, years]\n",
       "1           [5, years]\n",
       "2           [8, years]\n",
       "3         [10+, years]\n",
       "4                  NaN\n",
       "5           [7, years]\n",
       "6           [9, years]\n",
       "7            [1, year]\n",
       "8           [5, years]\n",
       "9                  NaN\n",
       "10        [10+, years]\n",
       "11          [3, years]\n",
       "12          [2, years]\n",
       "13        [10+, years]\n",
       "14          [2, years]\n",
       "15          [2, years]\n",
       "16          [9, years]\n",
       "17        [<, 1, year]\n",
       "18        [10+, years]\n",
       "19          [9, years]\n",
       "20          [4, years]\n",
       "21        [<, 1, year]\n",
       "22           [1, year]\n",
       "23          [4, years]\n",
       "24        [10+, years]\n",
       "25           [1, year]\n",
       "26          [5, years]\n",
       "27          [7, years]\n",
       "28        [10+, years]\n",
       "29        [<, 1, year]\n",
       "              ...     \n",
       "199970      [7, years]\n",
       "199971      [3, years]\n",
       "199972    [10+, years]\n",
       "199973      [5, years]\n",
       "199974      [6, years]\n",
       "199975      [3, years]\n",
       "199976    [10+, years]\n",
       "199977      [2, years]\n",
       "199978       [1, year]\n",
       "199979    [<, 1, year]\n",
       "199980      [8, years]\n",
       "199981      [3, years]\n",
       "199982    [10+, years]\n",
       "199983    [<, 1, year]\n",
       "199984    [<, 1, year]\n",
       "199985      [4, years]\n",
       "199986    [<, 1, year]\n",
       "199987      [5, years]\n",
       "199988             NaN\n",
       "199989      [6, years]\n",
       "199990             NaN\n",
       "199991             NaN\n",
       "199992      [6, years]\n",
       "199993      [8, years]\n",
       "199994      [5, years]\n",
       "199995      [7, years]\n",
       "199996       [1, year]\n",
       "199997      [8, years]\n",
       "199998      [4, years]\n",
       "199999      [7, years]\n",
       "Name: employmentLength, Length: 1000000, dtype: object"
      ]
     },
     "execution_count": 16,
     "metadata": {},
     "output_type": "execute_result"
    }
   ],
   "source": [
    "#改字段格式\n",
    "df['employmentLength'].str.split(' ')"
   ]
  },
  {
   "cell_type": "code",
   "execution_count": null,
   "metadata": {},
   "outputs": [],
   "source": []
  },
  {
   "cell_type": "code",
   "execution_count": null,
   "metadata": {},
   "outputs": [],
   "source": []
  }
 ],
 "metadata": {
  "interpreter": {
   "hash": "f885247c757e5bc706eca734c41bca72c30e8db3f9023c8c41bc59b8003826e5"
  },
  "kernelspec": {
   "display_name": "Python 3.9.6 64-bit",
   "language": "python",
   "name": "python3"
  },
  "language_info": {
   "codemirror_mode": {
    "name": "ipython",
    "version": 3
   },
   "file_extension": ".py",
   "mimetype": "text/x-python",
   "name": "python",
   "nbconvert_exporter": "python",
   "pygments_lexer": "ipython3",
   "version": "3.6.5"
  },
  "orig_nbformat": 4
 },
 "nbformat": 4,
 "nbformat_minor": 2
}
